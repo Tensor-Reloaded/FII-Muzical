{
 "metadata": {
  "language_info": {
   "codemirror_mode": {
    "name": "ipython",
    "version": 3
   },
   "file_extension": ".py",
   "mimetype": "text/x-python",
   "name": "python",
   "nbconvert_exporter": "python",
   "pygments_lexer": "ipython3",
   "version": "3.8.3-final"
  },
  "orig_nbformat": 2,
  "kernelspec": {
   "name": "python3",
   "display_name": "Python 3"
  }
 },
 "nbformat": 4,
 "nbformat_minor": 2,
 "cells": [
  {
   "cell_type": "code",
   "execution_count": 22,
   "metadata": {
    "tags": []
   },
   "outputs": [
    {
     "output_type": "stream",
     "name": "stdout",
     "text": [
      "{   'artist_genres': array([b'new wave', b'pop', b'rock', b'ballad', b'soundtrack', b'disco',\n       b'funk', b'vocal', b'cover', b'female', b'classic', b'beautiful',\n       b'guitar', b'punk', b'fusion', b'adult contemporary', b'solo',\n       b'folk', b'soul'], dtype='|S256'),\n    'artist_genres_freq': array([1.        , 0.92094389, 0.94960955, 0.48641094, 0.45221077,\n       0.38553616, 0.43597355, 0.30914504, 0.21425438, 0.31512916,\n       0.25442608, 0.24987674, 0.2665819 , 0.34956831, 0.20174956,\n       0.05043739, 0.05043739, 0.27535949, 0.22153703]),\n    'artist_genres_weights': array([1.        , 0.83623738, 0.8274089 , 0.67337814, 0.52509574,\n       0.52256826, 0.49997867, 0.46185663, 0.45937543, 0.43120619,\n       0.41927814, 0.40548363, 0.39721848, 0.37810396, 0.36306362,\n       0.32238978, 0.32238978, 0.32126081, 0.32121325]),\n    'artist_name': b'Cyndi Lauper',\n    'file_path': '../lmd_matched_h5\\\\A\\\\A\\\\A\\\\TRAAAGR128F425B14B.h5',\n    'have_lyrics': True,\n    'midi_dir': '../lmd_matched\\\\A\\\\A\\\\A\\\\TRAAAGR128F425B14B',\n    'midi_files': [   '1d9d16a9da90c090809c153754823c2b.mid',\n                      '5dd29e99ed7bd3cc0c5177a6e9de22ea.mid',\n                      'b97c529ab9ef783a849b896816001748.mid',\n                      'dac3cdd0db6341d8dc14641e44ed0d44.mid'],\n    'song_duration': 240.63955,\n    'song_title': b'Into The Nightlife',\n    'track_id': 'TRAAAGR128F425B14B'}\n"
     ]
    }
   ],
   "source": [
    "import os\n",
    "import glob\n",
    "import hdf5_getters\n",
    "import aspectlib\n",
    "import pprint\n",
    "import pandas\n",
    "\n",
    "\n",
    "pp = pprint.PrettyPrinter(indent=4)\n",
    "\n",
    "class CreateSongDataset:\n",
    "\n",
    "    def __init__(self, \n",
    "            MXM_metadata_filepath = 'mxm_779k_matches.txt', \n",
    "            hdf5_dataset_path = '../lmd_matched_h5', \n",
    "            hdf5_dataset_name = 'lmd_matched_h5', \n",
    "            midi_dataset_name = 'lmd_matched'):\n",
    "        self.MXM_metadata_filepath = MXM_metadata_filepath\n",
    "        self.hdf5_dataset_path = hdf5_dataset_path\n",
    "        self.hdf5_dataset_name = hdf5_dataset_name\n",
    "        self.midi_dataset_name = midi_dataset_name\n",
    "        self.trackIDs_with_lyrics = self.get_track_ids_from_MXM_dataset()\n",
    "\n",
    "    @aspectlib.Aspect\n",
    "    def get_song_metadata(self, *args, **kwargs):\n",
    "        result = yield aspectlib.Proceed\n",
    "        for key in result.keys():\n",
    "            fileObj = result[key]\n",
    "            h5 = hdf5_getters.open_h5_file_read(fileObj['file_path'])\n",
    "            fileObj['song_title'] = hdf5_getters.get_title(h5)\n",
    "            fileObj['song_duration'] = hdf5_getters.get_duration(h5)\n",
    "            fileObj['artist_name'] = hdf5_getters.get_artist_name(h5)\n",
    "            fileObj['artist_genres'] = hdf5_getters.get_artist_terms(h5)\n",
    "            fileObj['artist_genres_weights'] = hdf5_getters.get_artist_terms_weight(h5)\n",
    "            fileObj['artist_genres_freq'] = hdf5_getters.get_artist_terms_freq(h5)\n",
    "            result[key] = fileObj\n",
    "        yield aspectlib.Return(result)\n",
    "\n",
    "    @aspectlib.Aspect\n",
    "    def get_song_midi(self, *args, **kwargs):\n",
    "        result = yield aspectlib.Proceed\n",
    "        for key in result.keys():\n",
    "            fileObj = result[key]\n",
    "            midiDir = fileObj['file_path'].replace(self.hdf5_dataset_name, self.midi_dataset_name).replace('.h5', '')\n",
    "            fileObj['midi_dir'] = midiDir\n",
    "            fileObj['midi_files'] = onlyfiles = [f for f in os.listdir(midiDir) if os.path.isfile(os.path.join(midiDir, f))]\n",
    "        yield aspectlib.Return(result)\n",
    "\n",
    "    @aspectlib.Aspect\n",
    "    def set_have_lyrics(self, *args, **kwargs):\n",
    "        result = yield aspectlib.Proceed\n",
    "        for key in result.keys():\n",
    "            fileObj = result[key]\n",
    "            fileObj['have_lyrics'] = key in self.trackIDs_with_lyrics.values    \n",
    "        yield aspectlib.Return(result)\n",
    "\n",
    "    def get_files(self, only = 10, ext = '.h5'):\n",
    "        idx = 0\n",
    "        fileObjects = {}\n",
    "        for root, dirs, files in os.walk(self.hdf5_dataset_path):\n",
    "            files = glob.glob(os.path.join(root,'*'+ext))\n",
    "            for f in files:\n",
    "                fileName = os.path.basename(f)\n",
    "                trackId = os.path.splitext(fileName)[0]\n",
    "                fileObjects[trackId] = {\n",
    "                    'file_path': f,\n",
    "                    'track_id': trackId\n",
    "                }\n",
    "            idx += 1\n",
    "            if idx == only:\n",
    "                break\n",
    "        return fileObjects\n",
    "    \n",
    "    def get_track_ids_from_MXM_dataset(self):\n",
    "        df = pandas.read_csv(self.MXM_metadata_filepath, sep=\"<SEP>\", engine='python')\n",
    "        first = df[df.columns[0]]\n",
    "        return first\n",
    "    \n",
    "    \n",
    "\n",
    "with aspectlib.weave(CreateSongDataset.get_files, [CreateSongDataset.get_song_metadata, CreateSongDataset.get_song_midi, CreateSongDataset.set_have_lyrics]):\n",
    "    load_data = CreateSongDataset()\n",
    "    files_dict = load_data.get_files()\n",
    "    file_obj = next(iter(files_dict.values()))\n",
    "    pp.pprint(file_obj)\n"
   ]
  },
  {
   "cell_type": "code",
   "execution_count": null,
   "metadata": {},
   "outputs": [],
   "source": []
  }
 ]
}